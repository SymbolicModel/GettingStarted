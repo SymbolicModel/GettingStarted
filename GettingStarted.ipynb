{
 "cells": [
  {
   "cell_type": "markdown",
   "id": "659f9235",
   "metadata": {},
   "source": [
    " # Install python packages if not already installed\n",
    " (run the following line first before everything else!)"
   ]
  },
  {
   "cell_type": "code",
   "execution_count": null,
   "id": "f0a3824e",
   "metadata": {},
   "outputs": [],
   "source": [
    "!pip install numpy scipy pysr pysindy pandas matplotlib notebook"
   ]
  },
  {
   "cell_type": "markdown",
   "id": "fe871ef5",
   "metadata": {},
   "source": [
    "# Testing `PySR` install\n",
    "The first time PySR is imported, the JULIA backend will be downloaded and installed automatically.\n",
    "This might take some time."
   ]
  },
  {
   "cell_type": "code",
   "execution_count": null,
   "id": "a9e5db96",
   "metadata": {},
   "outputs": [],
   "source": [
    "import numpy as np\n",
    "from pysr import PySRRegressor"
   ]
  },
  {
   "cell_type": "markdown",
   "id": "d1093ece",
   "metadata": {},
   "source": [
    "Now Generate data and run"
   ]
  },
  {
   "cell_type": "code",
   "execution_count": 3,
   "id": "d9cfb081",
   "metadata": {},
   "outputs": [
    {
     "name": "stderr",
     "output_type": "stream",
     "text": [
      "/home/lloydfung/GettingStarted/.venv/lib/python3.13/site-packages/pysr/sr.py:2811: UserWarning: Note: it looks like you are running in Jupyter. The progress bar will be turned off.\n",
      "  warnings.warn(\n",
      "Compiling Julia backend...\n",
      "[ Info: Started!\n",
      "[ Info: Final population:\n",
      "[ Info: Results saved to:\n"
     ]
    },
    {
     "name": "stdout",
     "output_type": "stream",
     "text": [
      "───────────────────────────────────────────────────────────────────────────────────────────────────\n",
      "Complexity  Loss       Score      Equation\n",
      "1           3.301e+01  0.000e+00  y = 3.9335\n",
      "3           3.217e+00  1.164e+00  y = x₀ * x₀\n",
      "5           3.025e+00  3.081e-02  y = (x₀ + 0.22166) * x₀\n",
      "6           1.215e+00  9.119e-01  y = (x₀ * x₀) + cos(x₃)\n",
      "8           2.305e-01  8.312e-01  y = (x₀ * x₀) + (cos(x₃) * 2.3486)\n",
      "10          1.490e-13  1.403e+01  y = ((x₀ * x₀) + (cos(x₃) * 2.5382)) + -0.5\n",
      "12          1.218e-13  1.008e-01  y = (cos(x₃) * 2.5382) + (((x₀ * x₀) + -0.3958) + -0.1042)\n",
      "16          8.045e-14  1.036e-01  y = (((x₀ * x₀) + -0.30368) + ((x₀ * 4.5667e-08) + -0.1963...\n",
      "                                      2)) + (cos(x₃) * 2.5382)\n",
      "20          8.045e-14  6.884e-06  y = (cos(x₃) * 2.5382) + (((x₀ * x₀) + -0.30368) + (((x₀ *...\n",
      "                                       cos(cos(x₂))) * 5.4154e-08) + -0.19632))\n",
      "───────────────────────────────────────────────────────────────────────────────────────────────────\n",
      "PySRRegressor.equations_ = [\n",
      "\t   pick      score                                           equation  \\\n",
      "\t0         0.000000                                          3.9335284   \n",
      "\t1         1.164147                                            x0 * x0   \n",
      "\t2         0.030808                             (x0 + 0.22166371) * x0   \n",
      "\t3         0.911914                                (x0 * x0) + cos(x3)   \n",
      "\t4         0.831156                  (x0 * x0) + (cos(x3) * 2.3485672)   \n",
      "\t5        14.033812            ((x0 * x0) + (cos(x3) * 2.5382)) + -0.5   \n",
      "\t6         0.100822  (cos(x3) * 2.5382001) + (((x0 * x0) + -0.39579...   \n",
      "\t7  >>>>   0.103612  (((x0 * x0) + -0.30367947) + ((x0 * 4.5667026e...   \n",
      "\t8         0.000007  (cos(x3) * 2.5382001) + (((x0 * x0) + -0.30367...   \n",
      "\t\n",
      "\t           loss  complexity  \n",
      "\t0  3.300825e+01           1  \n",
      "\t1  3.217048e+00           3  \n",
      "\t2  3.024807e+00           5  \n",
      "\t3  1.215230e+00           6  \n",
      "\t4  2.305290e-01           8  \n",
      "\t5  1.489742e-13          10  \n",
      "\t6  1.217693e-13          12  \n",
      "\t7  8.045342e-14          16  \n",
      "\t8  8.045120e-14          20  \n",
      "]\n",
      "  - outputs/20250915_130629_yggPcw/hall_of_fame.csv\n"
     ]
    }
   ],
   "source": [
    "## Data Sample Generation\n",
    "X = 2 * np.random.randn(100, 5)\n",
    "y = 2.5382 * np.cos(X[:, 3]) + X[:, 0] ** 2 - 0.5\n",
    "\n",
    "## Setting up PySR Regressor\n",
    "model = PySRRegressor(\n",
    "    maxsize=20,\n",
    "    niterations=40,  # < Increase me for better results\n",
    "    binary_operators=[\"+\", \"*\"],\n",
    "    unary_operators=[\n",
    "        \"cos\",\n",
    "        \"exp\",\n",
    "        \"sin\",\n",
    "        \"inv(x) = 1/x\",\n",
    "        # ^ Custom operator (julia syntax)\n",
    "    ],\n",
    "    extra_sympy_mappings={\"inv\": lambda x: 1 / x},\n",
    "    # ^ Define operator for SymPy as well\n",
    "    elementwise_loss=\"loss(prediction, target) = (prediction - target)^2\",\n",
    "    # ^ Custom loss function (julia syntax)\n",
    ")\n",
    "\n",
    "## Now try to run the model\n",
    "model.fit(X, y)\n",
    "\n",
    "## Print the resulting model\n",
    "print(model)"
   ]
  },
  {
   "cell_type": "markdown",
   "id": "18a524cc",
   "metadata": {},
   "source": [
    "# Testing `PySINDy` install"
   ]
  },
  {
   "cell_type": "code",
   "execution_count": 4,
   "id": "2a4b72bd",
   "metadata": {},
   "outputs": [],
   "source": [
    "import numpy as np\n",
    "import pysindy as ps"
   ]
  },
  {
   "cell_type": "code",
   "execution_count": 5,
   "id": "40db68cd",
   "metadata": {},
   "outputs": [
    {
     "name": "stdout",
     "output_type": "stream",
     "text": [
      "(x)' = -2.000 x\n",
      "(y)' = 1.000 y\n"
     ]
    }
   ],
   "source": [
    "## Data Sample Generation\n",
    "t = np.linspace(0, 1, 100)\n",
    "x = 3 * np.exp(-2 * t)\n",
    "y = 0.5 * np.exp(t)\n",
    "X = np.stack((x, y), axis=-1)  # First column is x, second is y\n",
    "\n",
    "## Create PySINDy model\n",
    "model = ps.SINDy()\n",
    "model.fit(X,t=t,feature_names=[\"x\",\"y\"])\n",
    "\n",
    "## Print result\n",
    "model.print()"
   ]
  }
 ],
 "metadata": {
  "kernelspec": {
   "display_name": ".venv",
   "language": "python",
   "name": "python3"
  },
  "language_info": {
   "codemirror_mode": {
    "name": "ipython",
    "version": 3
   },
   "file_extension": ".py",
   "mimetype": "text/x-python",
   "name": "python",
   "nbconvert_exporter": "python",
   "pygments_lexer": "ipython3",
   "version": "3.13.3"
  }
 },
 "nbformat": 4,
 "nbformat_minor": 5
}
